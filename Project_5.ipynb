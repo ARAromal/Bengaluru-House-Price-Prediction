{
 "cells": [
  {
   "cell_type": "code",
   "execution_count": 2,
   "id": "f46e1136-5c56-4de2-ae74-6ffbc1dc93c2",
   "metadata": {},
   "outputs": [
    {
     "name": "stdout",
     "output_type": "stream",
     "text": [
      "First 5 rows of the data: \n",
      "              area_type   availability                  location       size  \\\n",
      "0  Super built-up  Area         19-Dec  Electronic City Phase II      2 BHK   \n",
      "1            Plot  Area  Ready To Move          Chikka Tirupathi  4 Bedroom   \n",
      "2        Built-up  Area  Ready To Move               Uttarahalli      3 BHK   \n",
      "3  Super built-up  Area  Ready To Move        Lingadheeranahalli      3 BHK   \n",
      "4  Super built-up  Area  Ready To Move                  Kothanur      2 BHK   \n",
      "\n",
      "   society total_sqft  bath  balcony   price  \n",
      "0  Coomee        1056   2.0      1.0   39.07  \n",
      "1  Theanmp       2600   5.0      3.0  120.00  \n",
      "2      NaN       1440   2.0      3.0   62.00  \n",
      "3  Soiewre       1521   3.0      1.0   95.00  \n",
      "4      NaN       1200   2.0      1.0   51.00  \n",
      "\n",
      "Data overview and missing values: \n",
      "<class 'pandas.core.frame.DataFrame'>\n",
      "RangeIndex: 13320 entries, 0 to 13319\n",
      "Data columns (total 9 columns):\n",
      " #   Column        Non-Null Count  Dtype  \n",
      "---  ------        --------------  -----  \n",
      " 0   area_type     13320 non-null  object \n",
      " 1   availability  13320 non-null  object \n",
      " 2   location      13319 non-null  object \n",
      " 3   size          13304 non-null  object \n",
      " 4   society       7818 non-null   object \n",
      " 5   total_sqft    13320 non-null  object \n",
      " 6   bath          13247 non-null  float64\n",
      " 7   balcony       12711 non-null  float64\n",
      " 8   price         13320 non-null  float64\n",
      "dtypes: float64(3), object(6)\n",
      "memory usage: 936.7+ KB\n",
      "None\n"
     ]
    }
   ],
   "source": [
    "import pandas as pd\n",
    "df=pd.read_csv(\"Bengaluru_House_Data.csv\")\n",
    "print(\"First 5 rows of the data: \")\n",
    "print(df.head())\n",
    "print(\"\\nData overview and missing values: \")\n",
    "print(df.info())"
   ]
  },
  {
   "cell_type": "code",
   "execution_count": 3,
   "id": "9f3c7820-6cf7-47a6-bc2b-4d93a99fd5ea",
   "metadata": {},
   "outputs": [
    {
     "name": "stdout",
     "output_type": "stream",
     "text": [
      "Shape of the dataframe after cleaning: \n",
      "(12710, 8)\n",
      "/nData overview after cleaning: \n",
      "<class 'pandas.core.frame.DataFrame'>\n",
      "Index: 12710 entries, 0 to 13319\n",
      "Data columns (total 8 columns):\n",
      " #   Column        Non-Null Count  Dtype  \n",
      "---  ------        --------------  -----  \n",
      " 0   area_type     12710 non-null  object \n",
      " 1   availability  12710 non-null  object \n",
      " 2   location      12710 non-null  object \n",
      " 3   size          12710 non-null  object \n",
      " 4   total_sqft    12710 non-null  object \n",
      " 5   bath          12710 non-null  float64\n",
      " 6   balcony       12710 non-null  float64\n",
      " 7   price         12710 non-null  float64\n",
      "dtypes: float64(3), object(5)\n",
      "memory usage: 893.7+ KB\n"
     ]
    }
   ],
   "source": [
    "df2=df.copy()\n",
    "df2=df.drop('society', axis='columns')\n",
    "df2=df2.dropna()\n",
    "print(\"Shape of the dataframe after cleaning: \")\n",
    "print(df2.shape)\n",
    "print(\"/nData overview after cleaning: \")\n",
    "df2.info()"
   ]
  },
  {
   "cell_type": "code",
   "execution_count": 5,
   "id": "523c07ad-19b7-4049-8151-40c9ad553020",
   "metadata": {},
   "outputs": [
    {
     "name": "stdout",
     "output_type": "stream",
     "text": [
      "              area_type   availability                  location       size  \\\n",
      "0  Super built-up  Area         19-Dec  Electronic City Phase II      2 BHK   \n",
      "1            Plot  Area  Ready To Move          Chikka Tirupathi  4 Bedroom   \n",
      "2        Built-up  Area  Ready To Move               Uttarahalli      3 BHK   \n",
      "3  Super built-up  Area  Ready To Move        Lingadheeranahalli      3 BHK   \n",
      "4  Super built-up  Area  Ready To Move                  Kothanur      2 BHK   \n",
      "\n",
      "  total_sqft  bath  balcony   price  bhk  \n",
      "0       1056   2.0      1.0   39.07    2  \n",
      "1       2600   5.0      3.0  120.00    4  \n",
      "2       1440   2.0      3.0   62.00    3  \n",
      "3       1521   3.0      1.0   95.00    3  \n",
      "4       1200   2.0      1.0   51.00    2  \n"
     ]
    }
   ],
   "source": [
    "df3=df2.copy()\n",
    "df3['bhk']=df3['size'].apply(lambda x: int(x.split(' ')[0]))\n",
    "print(df3.head())"
   ]
  },
  {
   "cell_type": "code",
   "execution_count": 11,
   "id": "b7cfaae5-7476-4408-a1fc-f82830318efc",
   "metadata": {},
   "outputs": [
    {
     "name": "stdout",
     "output_type": "stream",
     "text": [
      "<class 'pandas.core.frame.DataFrame'>\n",
      "Index: 12710 entries, 0 to 13319\n",
      "Data columns (total 9 columns):\n",
      " #   Column        Non-Null Count  Dtype  \n",
      "---  ------        --------------  -----  \n",
      " 0   area_type     12710 non-null  object \n",
      " 1   availability  12710 non-null  object \n",
      " 2   location      12710 non-null  object \n",
      " 3   size          12710 non-null  object \n",
      " 4   total_sqft    12668 non-null  float64\n",
      " 5   bath          12710 non-null  float64\n",
      " 6   balcony       12710 non-null  float64\n",
      " 7   price         12710 non-null  float64\n",
      " 8   bhk           12710 non-null  int64  \n",
      "dtypes: float64(4), int64(1), object(4)\n",
      "memory usage: 993.0+ KB\n"
     ]
    }
   ],
   "source": [
    "df4.info()"
   ]
  },
  {
   "cell_type": "code",
   "execution_count": 12,
   "id": "7a81b5c9-1267-4f08-98b7-df62e2bb6da2",
   "metadata": {},
   "outputs": [],
   "source": [
    "df4 = df4.dropna()"
   ]
  },
  {
   "cell_type": "code",
   "execution_count": 13,
   "id": "7723c953-83cb-4f5f-8445-9065808f4802",
   "metadata": {},
   "outputs": [
    {
     "name": "stdout",
     "output_type": "stream",
     "text": [
      "<class 'pandas.core.frame.DataFrame'>\n",
      "Index: 12668 entries, 0 to 13319\n",
      "Data columns (total 9 columns):\n",
      " #   Column        Non-Null Count  Dtype  \n",
      "---  ------        --------------  -----  \n",
      " 0   area_type     12668 non-null  object \n",
      " 1   availability  12668 non-null  object \n",
      " 2   location      12668 non-null  object \n",
      " 3   size          12668 non-null  object \n",
      " 4   total_sqft    12668 non-null  float64\n",
      " 5   bath          12668 non-null  float64\n",
      " 6   balcony       12668 non-null  float64\n",
      " 7   price         12668 non-null  float64\n",
      " 8   bhk           12668 non-null  int64  \n",
      "dtypes: float64(4), int64(1), object(4)\n",
      "memory usage: 989.7+ KB\n"
     ]
    }
   ],
   "source": [
    "df4.info()"
   ]
  },
  {
   "cell_type": "code",
   "execution_count": 16,
   "id": "cf27d8e0-4d52-4ffc-b9f7-b948c7dba3ae",
   "metadata": {},
   "outputs": [
    {
     "name": "stdout",
     "output_type": "stream",
     "text": [
      "<class 'pandas.core.frame.DataFrame'>\n",
      "Index: 12668 entries, 0 to 13319\n",
      "Data columns (total 8 columns):\n",
      " #   Column        Non-Null Count  Dtype  \n",
      "---  ------        --------------  -----  \n",
      " 0   area_type     12668 non-null  object \n",
      " 1   availability  12668 non-null  object \n",
      " 2   location      12668 non-null  object \n",
      " 3   total_sqft    12668 non-null  float64\n",
      " 4   bath          12668 non-null  float64\n",
      " 5   balcony       12668 non-null  float64\n",
      " 6   price         12668 non-null  float64\n",
      " 7   bhk           12668 non-null  int64  \n",
      "dtypes: float64(4), int64(1), object(3)\n",
      "memory usage: 890.7+ KB\n"
     ]
    }
   ],
   "source": [
    "df4.info()"
   ]
  },
  {
   "cell_type": "code",
   "execution_count": 19,
   "id": "26ba30e3-b367-4024-8aa9-191529e2529c",
   "metadata": {},
   "outputs": [],
   "source": [
    "df5=df4.copy()\n",
    "df5['price_per_sqft']=(df5['price']*100000)/df5['total_sqft']"
   ]
  },
  {
   "cell_type": "code",
   "execution_count": 20,
   "id": "1a49b596-57f6-4ee2-a951-a131ee802f0a",
   "metadata": {},
   "outputs": [
    {
     "name": "stdout",
     "output_type": "stream",
     "text": [
      "              area_type   availability                  location  total_sqft  \\\n",
      "0  Super built-up  Area         19-Dec  Electronic City Phase II      1056.0   \n",
      "1            Plot  Area  Ready To Move          Chikka Tirupathi      2600.0   \n",
      "2        Built-up  Area  Ready To Move               Uttarahalli      1440.0   \n",
      "3  Super built-up  Area  Ready To Move        Lingadheeranahalli      1521.0   \n",
      "4  Super built-up  Area  Ready To Move                  Kothanur      1200.0   \n",
      "\n",
      "   bath  balcony   price  bhk  price_per_sqft  \n",
      "0   2.0      1.0   39.07    2     3699.810606  \n",
      "1   5.0      3.0  120.00    4     4615.384615  \n",
      "2   2.0      3.0   62.00    3     4305.555556  \n",
      "3   3.0      1.0   95.00    3     6245.890861  \n",
      "4   2.0      1.0   51.00    2     4250.000000  \n",
      "\n",
      "Final data types: \n",
      "<class 'pandas.core.frame.DataFrame'>\n",
      "Index: 12668 entries, 0 to 13319\n",
      "Data columns (total 9 columns):\n",
      " #   Column          Non-Null Count  Dtype  \n",
      "---  ------          --------------  -----  \n",
      " 0   area_type       12668 non-null  object \n",
      " 1   availability    12668 non-null  object \n",
      " 2   location        12668 non-null  object \n",
      " 3   total_sqft      12668 non-null  float64\n",
      " 4   bath            12668 non-null  float64\n",
      " 5   balcony         12668 non-null  float64\n",
      " 6   price           12668 non-null  float64\n",
      " 7   bhk             12668 non-null  int64  \n",
      " 8   price_per_sqft  12668 non-null  float64\n",
      "dtypes: float64(5), int64(1), object(3)\n",
      "memory usage: 989.7+ KB\n"
     ]
    }
   ],
   "source": [
    "print(df5.head())\n",
    "print(\"\\nFinal data types: \")\n",
    "df5.info()"
   ]
  },
  {
   "cell_type": "code",
   "execution_count": 21,
   "id": "31c89071-b2b8-4af5-ba76-2e415cd0d068",
   "metadata": {},
   "outputs": [
    {
     "name": "stdout",
     "output_type": "stream",
     "text": [
      "Original shape:  (12668, 9)\n",
      "Shape after removing price_per_sqft outliers:  (9515, 9)\n"
     ]
    }
   ],
   "source": [
    "import numpy as np\n",
    "import pandas as pd\n",
    "df6=df5.copy()\n",
    "def remove_pps_outliers(df):\n",
    "    df_out=pd.DataFrame()\n",
    "    for key, subdf in df.groupby('location'):\n",
    "        m=np.mean(subdf.price_per_sqft)\n",
    "        st=np.std(subdf.price_per_sqft)\n",
    "        reduced_df=subdf[(subdf.price_per_sqft>(m-st))&(subdf.price_per_sqft<=(m+st))]\n",
    "        df_out=pd.concat([df_out, reduced_df], ignore_index=True)\n",
    "    return df_out\n",
    "df6=remove_pps_outliers(df6)\n",
    "print(\"Original shape: \", df5.shape)\n",
    "print(\"Shape after removing price_per_sqft outliers: \", df6.shape)"
   ]
  },
  {
   "cell_type": "code",
   "execution_count": 22,
   "id": "4cd5c759-50db-4315-8733-97e9644e3311",
   "metadata": {},
   "outputs": [
    {
     "name": "stdout",
     "output_type": "stream",
     "text": [
      "Data preparation complete! \n",
      "Shape of the training features (X_train):  (7612, 783)\n",
      "shape of the testing features (X_test):  (1903, 783)\n"
     ]
    }
   ],
   "source": [
    "from sklearn.model_selection import train_test_split\n",
    "df_final=df6.copy()\n",
    "dummies=pd.get_dummies(df_final.location)\n",
    "df_final=pd.concat([df_final, dummies], axis='columns')\n",
    "df_final=df_final.drop(['location', 'area_type', 'availability', 'price_per_sqft'], axis='columns')\n",
    "X=df_final.drop('price', axis='columns')\n",
    "y=df_final['price']\n",
    "\n",
    "X_train, X_test, y_train, y_test = train_test_split(X, y, test_size=0.2, random_state=10)\n",
    "\n",
    "print(\"Data preparation complete! \")\n",
    "print(\"Shape of the training features (X_train): \", X_train.shape)\n",
    "print(\"shape of the testing features (X_test): \", X_test.shape)"
   ]
  },
  {
   "cell_type": "code",
   "execution_count": 25,
   "id": "053b1f43-06c3-43bd-aab7-441c216c3981",
   "metadata": {},
   "outputs": [
    {
     "name": "stdout",
     "output_type": "stream",
     "text": [
      "Model training complete!\n",
      "The model's accuracy (R-squared score) on the test data is:  0.76\n"
     ]
    }
   ],
   "source": [
    "from sklearn.linear_model import LinearRegression\n",
    "lr_model = LinearRegression()\n",
    "lr_model.fit(X_train, y_train)\n",
    "model_score=lr_model.score(X_test, y_test)\n",
    "print(\"Model training complete!\")\n",
    "print(f\"The model's accuracy (R-squared score) on the test data is: {model_score: .2f}\")"
   ]
  },
  {
   "cell_type": "code",
   "execution_count": 27,
   "id": "f4c8b5ba-5ae9-4a7d-84dc-6d9706d6ddad",
   "metadata": {},
   "outputs": [
    {
     "name": "stdout",
     "output_type": "stream",
     "text": [
      "Training the random Forest model: \n",
      "\n",
      "Model training complete! \n",
      "The Random forest model's accuracy (R-squared score) is:  0.63\n"
     ]
    }
   ],
   "source": [
    "from sklearn.ensemble import RandomForestRegressor\n",
    "rf_model = RandomForestRegressor(n_estimators=100, random_state=10)\n",
    "print(\"Training the random Forest model: \")\n",
    "rf_model.fit(X_train, y_train)\n",
    "rf_score = rf_model.score(X_test, y_test)\n",
    "print(\"\\nModel training complete! \")\n",
    "print(f\"The Random forest model's accuracy (R-squared score) is: {rf_score: .2f}\")"
   ]
  },
  {
   "cell_type": "code",
   "execution_count": 29,
   "id": "f88d01d7-a4f2-4438-9776-c55d74a471e4",
   "metadata": {},
   "outputs": [
    {
     "name": "stdout",
     "output_type": "stream",
     "text": [
      "Starting hyperparameter tuning with GridSearchCV...\n",
      "Fitting 3 folds for each of 4 candidates, totalling 12 fits\n",
      "\n",
      "Best parameters found:  {'max_depth': 20, 'n_estimators': 100}\n",
      "The tuned Random Forest model's accuracy is: 0.62\n"
     ]
    }
   ],
   "source": [
    "# Extra out of the context...\n",
    "\n",
    "from sklearn.model_selection import GridSearchCV\n",
    "\n",
    "# Create the model instance\n",
    "rf_model_tuned = RandomForestRegressor(random_state=10)\n",
    "\n",
    "# Define the grid of parameters to test\n",
    "# We're telling it to test a few different values for the number of trees and their max depth\n",
    "param_grid = {\n",
    "    'n_estimators': [100, 200],\n",
    "    'max_depth': [10, 20]\n",
    "}\n",
    "\n",
    "# Create the GridSearchCV object\n",
    "# cv=3 means it will use 3-fold cross-validation\n",
    "# n_jobs=-1 means it will use all available CPU cores to speed up the process\n",
    "grid_search = GridSearchCV(estimator=rf_model_tuned, param_grid=param_grid, \n",
    "                           cv=3, n_jobs=-1, verbose=2)\n",
    "\n",
    "# Fit the grid search to the data (this is the part that takes time)\n",
    "print(\"Starting hyperparameter tuning with GridSearchCV...\")\n",
    "grid_search.fit(X_train, y_train)\n",
    "\n",
    "# Print the best parameters found\n",
    "print(\"\\nBest parameters found: \", grid_search.best_params_)\n",
    "\n",
    "# Evaluate the best model found by the grid search\n",
    "best_model_score = grid_search.best_estimator_.score(X_test, y_test)\n",
    "print(f\"The tuned Random Forest model's accuracy is: {best_model_score:.2f}\")"
   ]
  },
  {
   "cell_type": "code",
   "execution_count": null,
   "id": "ede52bfe-a9e9-471c-b9ab-8075282cc8e9",
   "metadata": {},
   "outputs": [],
   "source": []
  }
 ],
 "metadata": {
  "kernelspec": {
   "display_name": "Python 3 (ipykernel)",
   "language": "python",
   "name": "python3"
  },
  "language_info": {
   "codemirror_mode": {
    "name": "ipython",
    "version": 3
   },
   "file_extension": ".py",
   "mimetype": "text/x-python",
   "name": "python",
   "nbconvert_exporter": "python",
   "pygments_lexer": "ipython3",
   "version": "3.13.5"
  }
 },
 "nbformat": 4,
 "nbformat_minor": 5
}
